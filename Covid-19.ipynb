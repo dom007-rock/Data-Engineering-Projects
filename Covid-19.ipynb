{
 "cells": [
  {
   "cell_type": "code",
   "execution_count": 1,
   "id": "073a4ffc",
   "metadata": {},
   "outputs": [],
   "source": [
    "import pyspark\n",
    "from delta import *\n",
    "from pyspark.sql import SparkSession\n",
    "from pyspark.sql.functions import col, isnan, when, count"
   ]
  },
  {
   "cell_type": "code",
   "execution_count": 2,
   "id": "92907ed4",
   "metadata": {},
   "outputs": [],
   "source": [
    "builder = SparkSession.builder.master(\"local\").appName(\"Covid-19\").config(\"spark.jars\", \"/usr/local/postgresql-42.6.0.jar\")\\\n",
    "        .config(\"spark.sql.extensions\", \"io.delta.sql.DeltaSparkSessionExtension\")\\\n",
    "        .config(\"spark.sql.catalog.spark_catalog\", \"org.apache.spark.sql.delta.catalog.DeltaCatalog\")\n",
    "\n",
    "spark = configure_spark_with_delta_pip(builder).getOrCreate()"
   ]
  },
  {
   "cell_type": "code",
   "execution_count": 3,
   "id": "bbfc85f5",
   "metadata": {},
   "outputs": [
    {
     "data": {
      "text/html": [
       "\n",
       "            <div>\n",
       "                <p><b>SparkSession - in-memory</b></p>\n",
       "                \n",
       "        <div>\n",
       "            <p><b>SparkContext</b></p>\n",
       "\n",
       "            <p><a href=\"http://LAPTOP-L0CIPJTR:4041\">Spark UI</a></p>\n",
       "\n",
       "            <dl>\n",
       "              <dt>Version</dt>\n",
       "                <dd><code>v3.4.0</code></dd>\n",
       "              <dt>Master</dt>\n",
       "                <dd><code>local</code></dd>\n",
       "              <dt>AppName</dt>\n",
       "                <dd><code>Covid-19</code></dd>\n",
       "            </dl>\n",
       "        </div>\n",
       "        \n",
       "            </div>\n",
       "        "
      ],
      "text/plain": [
       "<pyspark.sql.session.SparkSession at 0x219091bf7f0>"
      ]
     },
     "execution_count": 3,
     "metadata": {},
     "output_type": "execute_result"
    }
   ],
   "source": [
    "spark"
   ]
  },
  {
   "cell_type": "code",
   "execution_count": 4,
   "id": "a836dc7b",
   "metadata": {},
   "outputs": [],
   "source": [
    "df = spark.read.option(\"header\", True).option(\"inferschema\", True).csv(\"hdfs://localhost:9000/covid-19/time-series-19-covid-combined.csv\")"
   ]
  },
  {
   "cell_type": "code",
   "execution_count": 5,
   "id": "418b797c",
   "metadata": {},
   "outputs": [
    {
     "name": "stdout",
     "output_type": "stream",
     "text": [
      "root\n",
      " |-- Date: string (nullable = true)\n",
      " |-- Country/Region: string (nullable = true)\n",
      " |-- Province/State: string (nullable = true)\n",
      " |-- Confirmed: integer (nullable = true)\n",
      " |-- Recovered: integer (nullable = true)\n",
      " |-- Deaths: integer (nullable = true)\n",
      "\n"
     ]
    }
   ],
   "source": [
    "df.printSchema() # Here it will the print the schema of the datset and we could see the data types, colmns, etc"
   ]
  },
  {
   "cell_type": "code",
   "execution_count": 6,
   "id": "5cd3192d",
   "metadata": {},
   "outputs": [
    {
     "name": "stdout",
     "output_type": "stream",
     "text": [
      "+-------+----------+--------------+--------------+-----------------+------------------+-----------------+\n",
      "|summary|      Date|Country/Region|Province/State|        Confirmed|         Recovered|           Deaths|\n",
      "+-------+----------+--------------+--------------+-----------------+------------------+-----------------+\n",
      "|  count|    231744|        231744|         72624|           231744|            218688|           231744|\n",
      "|   mean|      null|          null|          null|513236.1723021955|106211.62376993708| 9760.17023094449|\n",
      "| stddev|      null|          null|          null|3002239.150937862| 839741.3079382312|49749.87151319254|\n",
      "|    min|01-01-2021|   Afghanistan|       Alberta|                0|                 0|                0|\n",
      "|    max|31-12-2021|      Zimbabwe|      Zhejiang|         80625120|          30974748|           988609|\n",
      "+-------+----------+--------------+--------------+-----------------+------------------+-----------------+\n",
      "\n"
     ]
    }
   ],
   "source": [
    "df.describe().show() #shows basic summary with aggregation"
   ]
  },
  {
   "cell_type": "code",
   "execution_count": 7,
   "id": "e5c9300e",
   "metadata": {},
   "outputs": [
    {
     "name": "stdout",
     "output_type": "stream",
     "text": [
      "+----------+--------------+--------------+---------+---------+------+\n",
      "|      Date|Country/Region|Province/State|Confirmed|Recovered|Deaths|\n",
      "+----------+--------------+--------------+---------+---------+------+\n",
      "|22-01-2020|   Afghanistan|          null|        0|        0|     0|\n",
      "|23-01-2020|   Afghanistan|          null|        0|        0|     0|\n",
      "|24-01-2020|   Afghanistan|          null|        0|        0|     0|\n",
      "|25-01-2020|   Afghanistan|          null|        0|        0|     0|\n",
      "|26-01-2020|   Afghanistan|          null|        0|        0|     0|\n",
      "+----------+--------------+--------------+---------+---------+------+\n",
      "only showing top 5 rows\n",
      "\n",
      "The Total Number Of Values are: 231744\n"
     ]
    }
   ],
   "source": [
    "df.show(5) #It will show the top 5 rows.\n",
    "print(\"The Total Number Of Values are:\", df.count())"
   ]
  },
  {
   "cell_type": "code",
   "execution_count": 8,
   "id": "d440f48a",
   "metadata": {},
   "outputs": [
    {
     "name": "stdout",
     "output_type": "stream",
     "text": [
      "root\n",
      " |-- Date: string (nullable = true)\n",
      " |-- Country/Region: string (nullable = true)\n",
      " |-- Province/State: string (nullable = true)\n",
      " |-- Confirmed: integer (nullable = true)\n",
      " |-- Recovered: integer (nullable = true)\n",
      " |-- Deaths: integer (nullable = true)\n",
      "\n"
     ]
    }
   ],
   "source": [
    "# Ingesting only required columns\n",
    "df.printSchema() # Most of the columns seems important so we won't be dropping. "
   ]
  },
  {
   "cell_type": "code",
   "execution_count": 9,
   "id": "2e3bba9b",
   "metadata": {},
   "outputs": [
    {
     "name": "stdout",
     "output_type": "stream",
     "text": [
      "+----------+--------------+--------------+---------+---------+------+\n",
      "|      Date|Country/Region|Province/State|Confirmed|Recovered|Deaths|\n",
      "+----------+--------------+--------------+---------+---------+------+\n",
      "|31-05-2020|   Afghanistan|          null|    15180|     1328|   254|\n",
      "|24-08-2021|   Afghanistan|          null|   152660|        0|  7083|\n",
      "|21-01-2022|   Afghanistan|          null|   159516|        0|  7390|\n",
      "|17-08-2020|       Albania|          null|     7499|     3816|   230|\n",
      "|09-06-2020|       Algeria|          null|    10382|     6951|   724|\n",
      "|25-03-2021|       Algeria|          null|   116543|    81065|  3071|\n",
      "|13-04-2021|       Algeria|          null|   118799|    82813|  3137|\n",
      "|03-02-2020|       Andorra|          null|        0|        0|     0|\n",
      "|12-10-2020|       Andorra|          null|     2995|     1928|    57|\n",
      "|23-05-2021|       Andorra|          null|    13569|    13234|   127|\n",
      "+----------+--------------+--------------+---------+---------+------+\n",
      "only showing top 10 rows\n",
      "\n"
     ]
    }
   ],
   "source": [
    "# Dropping duplicate values\n",
    "df_unique = df.dropDuplicates() # Dropped the duplicate values if there are any! \n",
    "df_unique.show(10)"
   ]
  },
  {
   "cell_type": "code",
   "execution_count": 10,
   "id": "9fb69e85",
   "metadata": {},
   "outputs": [
    {
     "name": "stdout",
     "output_type": "stream",
     "text": [
      "+----+--------------+--------------+---------+---------+------+\n",
      "|Date|Country/Region|Province/State|Confirmed|Recovered|Deaths|\n",
      "+----+--------------+--------------+---------+---------+------+\n",
      "|   0|             0|        159120|        0|    13056|     0|\n",
      "+----+--------------+--------------+---------+---------+------+\n",
      "\n"
     ]
    }
   ],
   "source": [
    "# Null Handling\n",
    "# df_unique.printSchema()\n",
    "# We are checking in each columns how many \"Blanks\" are present.\n",
    "# Since 3rd and 5th columns has null; we will replace according to the datatype of that column\n",
    "# isnan() is a SQL function that is used to check for NAN values and isNull() is a Column class function that is used to check for Null values.\n",
    "\n",
    "df_colms = [\"Date\", \"Country/Region\", \"Province/State\", \"Confirmed\", \"Recovered\", \"Deaths\"]\n",
    "df_replace = df_unique.select([count(when(isnan(c) | col(c).isNull(), c)).alias(c) for c in df_colms]).show()"
   ]
  },
  {
   "cell_type": "code",
   "execution_count": 11,
   "id": "76791262",
   "metadata": {
    "scrolled": true
   },
   "outputs": [
    {
     "name": "stdout",
     "output_type": "stream",
     "text": [
      "+----------+--------------+--------------+---------+---------+------+\n",
      "|      Date|Country/Region|Province/State|Confirmed|Recovered|Deaths|\n",
      "+----------+--------------+--------------+---------+---------+------+\n",
      "|31-05-2020|   Afghanistan|            NA|    15180|     1328|   254|\n",
      "|24-08-2021|   Afghanistan|            NA|   152660|        0|  7083|\n",
      "|21-01-2022|   Afghanistan|            NA|   159516|        0|  7390|\n",
      "|17-08-2020|       Albania|            NA|     7499|     3816|   230|\n",
      "|09-06-2020|       Algeria|            NA|    10382|     6951|   724|\n",
      "|25-03-2021|       Algeria|            NA|   116543|    81065|  3071|\n",
      "|13-04-2021|       Algeria|            NA|   118799|    82813|  3137|\n",
      "|03-02-2020|       Andorra|            NA|        0|        0|     0|\n",
      "|12-10-2020|       Andorra|            NA|     2995|     1928|    57|\n",
      "|23-05-2021|       Andorra|            NA|    13569|    13234|   127|\n",
      "+----------+--------------+--------------+---------+---------+------+\n",
      "only showing top 10 rows\n",
      "\n"
     ]
    }
   ],
   "source": [
    "# 3rd Column: String: NA\n",
    "df_na = df_unique.na.fill(\"NA\", subset =[\"Province/State\"]) # Replaced Null in the string column\n",
    "df_na.show(10)"
   ]
  },
  {
   "cell_type": "code",
   "execution_count": 12,
   "id": "1059fa93",
   "metadata": {},
   "outputs": [
    {
     "name": "stdout",
     "output_type": "stream",
     "text": [
      "+----------+--------------+--------------+---------+---------+------+\n",
      "|      Date|Country/Region|Province/State|Confirmed|Recovered|Deaths|\n",
      "+----------+--------------+--------------+---------+---------+------+\n",
      "|31-05-2020|   Afghanistan|            NA|    15180|     1328|   254|\n",
      "|24-08-2021|   Afghanistan|            NA|   152660|        0|  7083|\n",
      "|21-01-2022|   Afghanistan|            NA|   159516|        0|  7390|\n",
      "|17-08-2020|       Albania|            NA|     7499|     3816|   230|\n",
      "|09-06-2020|       Algeria|            NA|    10382|     6951|   724|\n",
      "|25-03-2021|       Algeria|            NA|   116543|    81065|  3071|\n",
      "|13-04-2021|       Algeria|            NA|   118799|    82813|  3137|\n",
      "|03-02-2020|       Andorra|            NA|        0|        0|     0|\n",
      "|12-10-2020|       Andorra|            NA|     2995|     1928|    57|\n",
      "|23-05-2021|       Andorra|            NA|    13569|    13234|   127|\n",
      "+----------+--------------+--------------+---------+---------+------+\n",
      "only showing top 10 rows\n",
      "\n"
     ]
    }
   ],
   "source": [
    "# 5th Column: Integer: 0\n",
    "df_int = df_na.na.fill(value = 0, subset =[\"Recovered\"]) # Replaced Null in the integer column\n",
    "df_int.show(10)"
   ]
  },
  {
   "cell_type": "code",
   "execution_count": 13,
   "id": "725ad465",
   "metadata": {},
   "outputs": [
    {
     "name": "stdout",
     "output_type": "stream",
     "text": [
      "+----+--------------+--------------+---------+---------+------+\n",
      "|Date|Country/Region|Province/State|Confirmed|Recovered|Deaths|\n",
      "+----+--------------+--------------+---------+---------+------+\n",
      "|   0|             0|             0|        0|        0|     0|\n",
      "+----+--------------+--------------+---------+---------+------+\n",
      "\n"
     ]
    }
   ],
   "source": [
    "df_colms = [\"Date\", \"Country/Region\", \"Province/State\", \"Confirmed\", \"Recovered\", \"Deaths\"]\n",
    "df_replace = df_int.select([count(when(isnan(c) | col(c).isNull(), c)).alias(c) for c in df_colms]).show()\n",
    "# Here we can confirm that all Null/Blanks have been replaced with according to the datatype of the columns"
   ]
  },
  {
   "cell_type": "code",
   "execution_count": 14,
   "id": "719b8152",
   "metadata": {},
   "outputs": [
    {
     "name": "stdout",
     "output_type": "stream",
     "text": [
      "root\n",
      " |-- Date: string (nullable = true)\n",
      " |-- Country/Region: string (nullable = true)\n",
      " |-- Province/State: string (nullable = false)\n",
      " |-- Confirmed: integer (nullable = true)\n",
      " |-- Recovered: integer (nullable = true)\n",
      " |-- Deaths: integer (nullable = true)\n",
      "\n"
     ]
    }
   ],
   "source": [
    "# Column Renaming \n",
    "df_int.printSchema()\n",
    "# 2nd and 3rd column need to be renamed as Province/State = State and Country/Region = Country"
   ]
  },
  {
   "cell_type": "code",
   "execution_count": 15,
   "id": "70f5bccd",
   "metadata": {},
   "outputs": [
    {
     "name": "stdout",
     "output_type": "stream",
     "text": [
      "root\n",
      " |-- Date: string (nullable = true)\n",
      " |-- Country: string (nullable = true)\n",
      " |-- State: string (nullable = false)\n",
      " |-- Confirmed: integer (nullable = true)\n",
      " |-- Recovered: integer (nullable = true)\n",
      " |-- Deaths: integer (nullable = true)\n",
      "\n",
      "+----------+-----------+-----+---------+---------+------+\n",
      "|      Date|    Country|State|Confirmed|Recovered|Deaths|\n",
      "+----------+-----------+-----+---------+---------+------+\n",
      "|31-05-2020|Afghanistan|   NA|    15180|     1328|   254|\n",
      "|24-08-2021|Afghanistan|   NA|   152660|        0|  7083|\n",
      "|21-01-2022|Afghanistan|   NA|   159516|        0|  7390|\n",
      "|17-08-2020|    Albania|   NA|     7499|     3816|   230|\n",
      "|09-06-2020|    Algeria|   NA|    10382|     6951|   724|\n",
      "+----------+-----------+-----+---------+---------+------+\n",
      "only showing top 5 rows\n",
      "\n"
     ]
    }
   ],
   "source": [
    "df_rename = df_int.withColumnRenamed(\"Country/Region\", \"Country\").withColumnRenamed(\"Province/State\", \"State\")\n",
    "\n",
    "df_rename.printSchema() # Required columns are renamed\n",
    "\n",
    "df_rename.show(5)"
   ]
  },
  {
   "cell_type": "code",
   "execution_count": 16,
   "id": "79669030",
   "metadata": {},
   "outputs": [],
   "source": [
    "# We don't need to do the Typecasting of any column"
   ]
  },
  {
   "cell_type": "code",
   "execution_count": 17,
   "id": "a829a5dd",
   "metadata": {},
   "outputs": [],
   "source": [
    "# Aggregate the data\n",
    "# 1.\tHow many total cases so far?\n",
    "# 2.\tHow many recovered cases so far?\n",
    "# 3.\tHow many deaths so far?\n",
    "# 4.\tHow many total cases so far countrywise?\n",
    "# 5.\tHow many recovered cases so far countrywise?\n",
    "# 6.\tHow many deaths so far countrywise?"
   ]
  },
  {
   "cell_type": "code",
   "execution_count": 18,
   "id": "c3063463",
   "metadata": {},
   "outputs": [
    {
     "name": "stdout",
     "output_type": "stream",
     "text": [
      "+---------------+\n",
      "|Confirmed_Cases|\n",
      "+---------------+\n",
      "|   118939403514|\n",
      "+---------------+\n",
      "\n"
     ]
    }
   ],
   "source": [
    "# 1.\tHow many total cases so far?\n",
    "from pyspark.sql.functions import sum, avg, aggregate\n",
    "\n",
    "df_total = df_rename.select(sum(\"Confirmed\").alias(\"Confirmed_Cases\")).show()"
   ]
  },
  {
   "cell_type": "code",
   "execution_count": 19,
   "id": "219aee53",
   "metadata": {},
   "outputs": [
    {
     "name": "stdout",
     "output_type": "stream",
     "text": [
      "+---------------+\n",
      "|Recovered_Cases|\n",
      "+---------------+\n",
      "|    23227207579|\n",
      "+---------------+\n",
      "\n"
     ]
    }
   ],
   "source": [
    "# 2.\tHow many recovered cases so far?\n",
    "df_recovered = df_rename.select(sum(\"Recovered\").alias(\"Recovered_Cases\")).show()"
   ]
  },
  {
   "cell_type": "code",
   "execution_count": 20,
   "id": "3f528164",
   "metadata": {},
   "outputs": [
    {
     "name": "stdout",
     "output_type": "stream",
     "text": [
      "+-----------+\n",
      "|Total_Death|\n",
      "+-----------+\n",
      "| 2261860890|\n",
      "+-----------+\n",
      "\n"
     ]
    }
   ],
   "source": [
    "# 3.\tHow many deaths so far?\n",
    "df_death = df_rename.select(sum(\"Deaths\").alias(\"Total_Death\")).show()"
   ]
  },
  {
   "cell_type": "code",
   "execution_count": 21,
   "id": "5a465cce",
   "metadata": {},
   "outputs": [
    {
     "name": "stdout",
     "output_type": "stream",
     "text": [
      "+--------+---------------+\n",
      "| Country|Total_Confirmed|\n",
      "+--------+---------------+\n",
      "|    Chad|        2737971|\n",
      "|Paraguay|      198415316|\n",
      "|  Russia|     4055403879|\n",
      "|   Yemen|        3987738|\n",
      "| Senegal|       30940101|\n",
      "+--------+---------------+\n",
      "only showing top 5 rows\n",
      "\n"
     ]
    }
   ],
   "source": [
    "# 4.\tHow many total cases so far countrywise?\n",
    "df_total_country = df_rename.groupBy(\"Country\").agg(sum(\"Confirmed\").alias(\"Total_Confirmed\")).show(5)"
   ]
  },
  {
   "cell_type": "code",
   "execution_count": 22,
   "id": "245b7ee1",
   "metadata": {
    "scrolled": true
   },
   "outputs": [
    {
     "name": "stdout",
     "output_type": "stream",
     "text": [
      "+--------+---------------+\n",
      "| Country|Totta_Recovered|\n",
      "+--------+---------------+\n",
      "|    Chad|        1091049|\n",
      "|Paraguay|       54844740|\n",
      "|  Russia|     1128064202|\n",
      "|   Yemen|         772497|\n",
      "| Senegal|        9755165|\n",
      "+--------+---------------+\n",
      "only showing top 5 rows\n",
      "\n"
     ]
    }
   ],
   "source": [
    "# 5.\tHow many recovered cases so far countrywise?\n",
    "df_recovered_country = df_rename.groupBy(\"Country\").agg(sum(\"Recovered\").alias(\"Totta_Recovered\")).show(5)"
   ]
  },
  {
   "cell_type": "code",
   "execution_count": 26,
   "id": "53ea8937",
   "metadata": {},
   "outputs": [
    {
     "name": "stdout",
     "output_type": "stream",
     "text": [
      "+--------+-----------+\n",
      "| Country|Total_Death|\n",
      "+--------+-----------+\n",
      "|    Chad|      99316|\n",
      "|Paraguay|    5974097|\n",
      "|  Russia|   97041399|\n",
      "|   Yemen|     810844|\n",
      "| Senegal|     746432|\n",
      "+--------+-----------+\n",
      "only showing top 5 rows\n",
      "\n"
     ]
    }
   ],
   "source": [
    "# 6.\tHow many deaths so far countrywise?\n",
    "df_death_country = df_rename.groupBy(\"Country\").agg(sum(\"Deaths\").alias(\"Total_Death\")).show(5)"
   ]
  },
  {
   "cell_type": "code",
   "execution_count": 28,
   "id": "0a721f81",
   "metadata": {},
   "outputs": [],
   "source": [
    "# df_rename.write.format(\"delta\").mode(\"overwrite\").save(\"/tmp/delta-table\")"
   ]
  },
  {
   "cell_type": "code",
   "execution_count": 38,
   "id": "2b435671",
   "metadata": {},
   "outputs": [],
   "source": [
    "# Writing the data to PostgresSQL \n",
    "df_rename.write \\\n",
    "  .format(\"jdbc\") \\\n",
    "  .format(\"delta\") \\\n",
    "  .option(\"url\", \"jdbc:postgresql://localhost:5432/covid\") \\\n",
    "  .option(\"driver\", \"org.postgresql.Driver\") \\\n",
    "  .option(\"dbtable\", \"coviddata\") \\\n",
    "  .option(\"user\", \"postgres\") \\\n",
    "  .option(\"password\", \"root@1234\")\\\n",
    "  .mode('overwrite')\\\n",
    "  .save(\"/tmp/final-table-delta\")"
   ]
  }
 ],
 "metadata": {
  "kernelspec": {
   "display_name": "Python 3 (ipykernel)",
   "language": "python",
   "name": "python3"
  },
  "language_info": {
   "codemirror_mode": {
    "name": "ipython",
    "version": 3
   },
   "file_extension": ".py",
   "mimetype": "text/x-python",
   "name": "python",
   "nbconvert_exporter": "python",
   "pygments_lexer": "ipython3",
   "version": "3.10.9"
  }
 },
 "nbformat": 4,
 "nbformat_minor": 5
}
